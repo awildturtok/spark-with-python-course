{
 "cells": [
  {
   "cell_type": "code",
   "execution_count": 1,
   "metadata": {},
   "outputs": [
    {
     "data": {
      "text/html": [
       "\n",
       "        <div>\n",
       "            <p><b>SparkContext</b></p>\n",
       "\n",
       "            <p><a href=\"http://192.168.178.21:4040\">Spark UI</a></p>\n",
       "\n",
       "            <dl>\n",
       "              <dt>Version</dt>\n",
       "                <dd><code>v2.2.0</code></dd>\n",
       "              <dt>Master</dt>\n",
       "                <dd><code>local</code></dd>\n",
       "              <dt>AppName</dt>\n",
       "                <dd><code>Simple App</code></dd>\n",
       "            </dl>\n",
       "        </div>\n",
       "        "
      ],
      "text/plain": [
       "<SparkContext master=local appName=Simple App>"
      ]
     },
     "execution_count": 1,
     "metadata": {},
     "output_type": "execute_result"
    }
   ],
   "source": [
    "from pyspark import SparkContext\n",
    "sc = SparkContext(\"local\", \"Simple App\")\n",
    "\n",
    "sc"
   ]
  },
  {
   "cell_type": "markdown",
   "metadata": {},
   "source": [
    "## Initialisieren des SQLContext Objektes und laden der Uber Daten"
   ]
  },
  {
   "cell_type": "code",
   "execution_count": 3,
   "metadata": {},
   "outputs": [],
   "source": [
    "sqlContext = SQLContext(sc)"
   ]
  },
  {
   "cell_type": "code",
   "execution_count": 4,
   "metadata": {},
   "outputs": [
    {
     "data": {
      "text/plain": [
       "DataFrame[dispatching_base_number: string, date: string, active_vehicles: int, trips: int]"
      ]
     },
     "execution_count": 4,
     "metadata": {},
     "output_type": "execute_result"
    }
   ],
   "source": [
    "df = sqlContext.read \\\n",
    "    .format('com.databricks.spark.csv') \\\n",
    "    .options(header='true', inferschema='true') \\\n",
    "    .load('data/Uber-Jan-Feb-FOIL.csv')\n",
    "\n",
    "df"
   ]
  },
  {
   "cell_type": "markdown",
   "metadata": {},
   "source": [
    "## Ausgabe des automatisch generierten Schemas"
   ]
  },
  {
   "cell_type": "code",
   "execution_count": 6,
   "metadata": {},
   "outputs": [
    {
     "name": "stdout",
     "output_type": "stream",
     "text": [
      "root\n",
      " |-- dispatching_base_number: string (nullable = true)\n",
      " |-- date: string (nullable = true)\n",
      " |-- active_vehicles: integer (nullable = true)\n",
      " |-- trips: integer (nullable = true)\n",
      "\n"
     ]
    }
   ],
   "source": [
    "df.printSchema()"
   ]
  },
  {
   "cell_type": "markdown",
   "metadata": {},
   "source": [
    "## Mit DataFrames arbeiten"
   ]
  },
  {
   "cell_type": "code",
   "execution_count": 78,
   "metadata": {},
   "outputs": [
    {
     "data": {
      "text/plain": [
       "0.9804925397246566"
      ]
     },
     "execution_count": 78,
     "metadata": {},
     "output_type": "execute_result"
    }
   ],
   "source": [
    "df.corr(col1= 'active_vehicles', col2 = 'trips')"
   ]
  },
  {
   "cell_type": "code",
   "execution_count": 79,
   "metadata": {
    "scrolled": true
   },
   "outputs": [
    {
     "data": {
      "text/plain": [
       "[[112.0, 1072.0, 4395.0], [629.0, 9546.0, 45858.0]]"
      ]
     },
     "execution_count": 79,
     "metadata": {},
     "output_type": "execute_result"
    }
   ],
   "source": [
    "df.approxQuantile(['active_vehicles', 'trips'], [0.01, 0.5, 0.99], 0.05)"
   ]
  },
  {
   "cell_type": "code",
   "execution_count": 82,
   "metadata": {},
   "outputs": [
    {
     "name": "stdout",
     "output_type": "stream",
     "text": [
      "+-----------------------+--------------------+\n",
      "|dispatching_base_number|max(active_vehicles)|\n",
      "+-----------------------+--------------------+\n",
      "|                 B02512|                 281|\n",
      "|                 B02598|                1216|\n",
      "|                 B02682|                1523|\n",
      "|                 B02765|                 786|\n",
      "|                 B02617|                1590|\n",
      "|                 B02764|                4395|\n",
      "+-----------------------+--------------------+\n",
      "\n"
     ]
    }
   ],
   "source": [
    "df.groupBy('dispatching_base_number').max('active_vehicles').show()"
   ]
  },
  {
   "cell_type": "code",
   "execution_count": 74,
   "metadata": {},
   "outputs": [
    {
     "name": "stdout",
     "output_type": "stream",
     "text": [
      "+-----------------------+\n",
      "|dispatching_base_number|\n",
      "+-----------------------+\n",
      "|                 B02512|\n",
      "|                 B02598|\n",
      "|                 B02682|\n",
      "|                 B02765|\n",
      "|                 B02617|\n",
      "|                 B02764|\n",
      "+-----------------------+\n",
      "\n"
     ]
    }
   ],
   "source": [
    "df.select(\"dispatching_base_number\").distinct().show()"
   ]
  },
  {
   "cell_type": "code",
   "execution_count": 89,
   "metadata": {},
   "outputs": [
    {
     "name": "stdout",
     "output_type": "stream",
     "text": [
      "+---------+--------------------+----------+\n",
      "|     date|sum(active_vehicles)|sum(trips)|\n",
      "+---------+--------------------+----------+\n",
      "| 1/1/2015|                6885|     56437|\n",
      "|1/10/2015|                7346|     78484|\n",
      "|1/11/2015|                6571|     57026|\n",
      "|1/12/2015|                7364|     57646|\n",
      "|1/13/2015|                7559|     63499|\n",
      "|1/14/2015|                7849|     63329|\n",
      "|1/15/2015|                8080|     66729|\n",
      "|1/16/2015|                8273|     72480|\n",
      "|1/17/2015|                7527|     73363|\n",
      "|1/18/2015|                6863|     72473|\n",
      "|1/19/2015|                5945|     45755|\n",
      "| 1/2/2015|                6330|     39189|\n",
      "|1/20/2015|                7592|     54772|\n",
      "|1/21/2015|                7948|     59147|\n",
      "|1/22/2015|                8267|     65602|\n",
      "|1/23/2015|                8490|     71819|\n",
      "|1/24/2015|                7643|     80709|\n",
      "|1/25/2015|                6787|     57895|\n",
      "|1/26/2015|                6533|     43395|\n",
      "|1/27/2015|                3496|     25244|\n",
      "+---------+--------------------+----------+\n",
      "only showing top 20 rows\n",
      "\n"
     ]
    }
   ],
   "source": [
    "data_per_day = df.groupBy('date').sum('active_vehicles', 'trips')\n",
    "data_per_day.orderBy('date').show()"
   ]
  },
  {
   "cell_type": "code",
   "execution_count": 90,
   "metadata": {},
   "outputs": [
    {
     "data": {
      "text/plain": [
       "[[3496.0, 7999.0, 9649.0], [25244.0, 70296.0, 100915.0]]"
      ]
     },
     "execution_count": 90,
     "metadata": {},
     "output_type": "execute_result"
    }
   ],
   "source": [
    "data_per_day.approxQuantile(['sum(active_vehicles)', 'sum(trips)'], [0.01, 0.5, 0.99], 0.05)"
   ]
  },
  {
   "cell_type": "markdown",
   "metadata": {},
   "source": [
    "## Mit SparkSQL arbeiten"
   ]
  },
  {
   "cell_type": "code",
   "execution_count": 7,
   "metadata": {},
   "outputs": [],
   "source": [
    "df.registerTempTable(\"uber\")"
   ]
  },
  {
   "cell_type": "code",
   "execution_count": 70,
   "metadata": {},
   "outputs": [
    {
     "name": "stdout",
     "output_type": "stream",
     "text": [
      "+-----------------------+\n",
      "|dispatching_base_number|\n",
      "+-----------------------+\n",
      "|                 B02512|\n",
      "|                 B02598|\n",
      "|                 B02682|\n",
      "|                 B02765|\n",
      "|                 B02617|\n",
      "|                 B02764|\n",
      "+-----------------------+\n",
      "\n"
     ]
    }
   ],
   "source": [
    "distinct_bases = sqlContext.sql(\"select distinct dispatching_base_number from uber\")\n",
    "distinct_bases.show()"
   ]
  },
  {
   "cell_type": "code",
   "execution_count": 31,
   "metadata": {},
   "outputs": [],
   "source": [
    "as_df = sqlContext.sql(\"select * from uber\").toDF('dispatching_base_number', 'date', 'active_vehicles', 'trips')\n",
    "\n",
    "# as_df.groupBy('dispatching_base_number')"
   ]
  },
  {
   "cell_type": "code",
   "execution_count": 76,
   "metadata": {},
   "outputs": [
    {
     "name": "stdout",
     "output_type": "stream",
     "text": [
      "+-----------------------+---------+---------------+-----+\n",
      "|dispatching_base_number|     date|active_vehicles|trips|\n",
      "+-----------------------+---------+---------------+-----+\n",
      "|                 B02598| 1/2/2015|            785| 4768|\n",
      "|                 B02598| 1/6/2015|            933| 6816|\n",
      "|                 B02512| 1/8/2015|            238| 1772|\n",
      "|                 B02598|1/10/2015|            949|10287|\n",
      "|                 B02598|1/28/2015|           1011| 8071|\n",
      "|                 B02682|1/29/2015|           1316|11485|\n",
      "|                 B02512|1/30/2015|            256| 2016|\n",
      "|                 B02682| 2/2/2015|           1152|11981|\n",
      "|                 B02765| 2/2/2015|            275| 2607|\n",
      "|                 B02512| 2/2/2015|            227| 1904|\n",
      "|                 B02682| 2/7/2015|           1300|13450|\n",
      "|                 B02512|2/11/2015|            255| 1831|\n",
      "|                 B02598|2/25/2015|           1076| 9405|\n",
      "|                 B02682|2/27/2015|           1510|14975|\n",
      "+-----------------------+---------+---------------+-----+\n",
      "\n"
     ]
    }
   ],
   "source": [
    "as_df.sample(fraction = 0.05, withReplacement = False).show()"
   ]
  },
  {
   "cell_type": "code",
   "execution_count": 11,
   "metadata": {},
   "outputs": [
    {
     "name": "stdout",
     "output_type": "stream",
     "text": [
      "+-----------------------+-------+\n",
      "|dispatching_base_number|    cnt|\n",
      "+-----------------------+-------+\n",
      "|                 B02764|1914449|\n",
      "|                 B02617| 725025|\n",
      "|                 B02682| 662509|\n",
      "|                 B02598| 540791|\n",
      "|                 B02765| 193670|\n",
      "|                 B02512|  93786|\n",
      "+-----------------------+-------+\n",
      "\n"
     ]
    }
   ],
   "source": [
    "sqlContext.sql(\"\"\"select dispatching_base_number, sum(`trips`) as cnt \n",
    "                                from uber group by `dispatching_base_number` \n",
    "                                order by cnt desc\"\"\").show()"
   ]
  },
  {
   "cell_type": "code",
   "execution_count": 12,
   "metadata": {},
   "outputs": [
    {
     "name": "stdout",
     "output_type": "stream",
     "text": [
      "+---------+------+\n",
      "|     date|   cnt|\n",
      "+---------+------+\n",
      "|2/20/2015|100915|\n",
      "|2/14/2015|100345|\n",
      "|2/21/2015| 98380|\n",
      "|2/13/2015| 98024|\n",
      "|1/31/2015| 92257|\n",
      "+---------+------+\n",
      "\n"
     ]
    }
   ],
   "source": [
    "sqlContext.sql(\"\"\"select `date`, sum(`trips`) as cnt \n",
    "                    from uber \n",
    "                    group by `date` \n",
    "                    order by cnt desc \n",
    "                    limit 5\"\"\").show()"
   ]
  },
  {
   "cell_type": "code",
   "execution_count": null,
   "metadata": {},
   "outputs": [],
   "source": [
    "sqlContext.sql(\"\"\"select `date`, sum(`trips`) as cnt \n",
    "                    from uber \n",
    "                    group by `date` \n",
    "                    order by cnt desc \n",
    "                    limit 5\"\"\").show()"
   ]
  },
  {
   "cell_type": "code",
   "execution_count": null,
   "metadata": {},
   "outputs": [],
   "source": [
    "sc.stop()"
   ]
  }
 ],
 "metadata": {
  "kernelspec": {
   "display_name": "Python 3",
   "language": "python",
   "name": "python3"
  },
  "language_info": {
   "codemirror_mode": {
    "name": "ipython",
    "version": 3
   },
   "file_extension": ".py",
   "mimetype": "text/x-python",
   "name": "python",
   "nbconvert_exporter": "python",
   "pygments_lexer": "ipython3",
   "version": "3.5.2"
  }
 },
 "nbformat": 4,
 "nbformat_minor": 1
}
