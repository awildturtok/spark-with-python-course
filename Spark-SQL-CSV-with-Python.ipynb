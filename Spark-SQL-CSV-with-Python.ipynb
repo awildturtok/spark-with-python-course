{
 "cells": [
  {
   "cell_type": "code",
   "execution_count": 1,
   "metadata": {},
   "outputs": [
    {
     "data": {
      "text/html": [
       "\n",
       "        <div>\n",
       "            <p><b>SparkContext</b></p>\n",
       "\n",
       "            <p><a href=\"http://192.168.178.21:4040\">Spark UI</a></p>\n",
       "\n",
       "            <dl>\n",
       "              <dt>Version</dt>\n",
       "                <dd><code>v2.2.0</code></dd>\n",
       "              <dt>Master</dt>\n",
       "                <dd><code>local</code></dd>\n",
       "              <dt>AppName</dt>\n",
       "                <dd><code>Simple App</code></dd>\n",
       "            </dl>\n",
       "        </div>\n",
       "        "
      ],
      "text/plain": [
       "<SparkContext master=local appName=Simple App>"
      ]
     },
     "execution_count": 1,
     "metadata": {},
     "output_type": "execute_result"
    }
   ],
   "source": [
    "from pyspark import SparkContext\n",
    "sc = SparkContext(\"local\", \"Simple App\")\n",
    "\n",
    "sc"
   ]
  },
  {
   "cell_type": "markdown",
   "metadata": {},
   "source": [
    "## Initialisieren des SQLContext Objektes und laden der Uber Daten"
   ]
  },
  {
   "cell_type": "code",
   "execution_count": 3,
   "metadata": {},
   "outputs": [],
   "source": [
    "sqlContext = SQLContext(sc)"
   ]
  },
  {
   "cell_type": "code",
   "execution_count": 4,
   "metadata": {},
   "outputs": [
    {
     "data": {
      "text/plain": [
       "DataFrame[dispatching_base_number: string, date: string, active_vehicles: int, trips: int]"
      ]
     },
     "execution_count": 4,
     "metadata": {},
     "output_type": "execute_result"
    }
   ],
   "source": [
    "df = sqlContext.read \\\n",
    "    .format('com.databricks.spark.csv') \\\n",
    "    .options(header='true', inferschema='true') \\\n",
    "    .load('data/Uber-Jan-Feb-FOIL.csv')\n",
    "\n",
    "df"
   ]
  },
  {
   "cell_type": "markdown",
   "metadata": {},
   "source": [
    "## Ausgabe des automatisch generierten Schemas"
   ]
  },
  {
   "cell_type": "code",
   "execution_count": 6,
   "metadata": {},
   "outputs": [
    {
     "name": "stdout",
     "output_type": "stream",
     "text": [
      "root\n",
      " |-- dispatching_base_number: string (nullable = true)\n",
      " |-- date: string (nullable = true)\n",
      " |-- active_vehicles: integer (nullable = true)\n",
      " |-- trips: integer (nullable = true)\n",
      "\n"
     ]
    }
   ],
   "source": [
    "df.printSchema()"
   ]
  },
  {
   "cell_type": "markdown",
   "metadata": {},
   "source": [
    "## Mit DataFrames arbeiten"
   ]
  },
  {
   "cell_type": "code",
   "execution_count": 122,
   "metadata": {},
   "outputs": [
    {
     "name": "stdout",
     "output_type": "stream",
     "text": [
      "+-------+-----------------------+--------+------------------+------------------+\n",
      "|summary|dispatching_base_number|    date|   active_vehicles|             trips|\n",
      "+-------+-----------------------+--------+------------------+------------------+\n",
      "|  count|                    354|     354|               354|               354|\n",
      "|   mean|                   null|    null|1307.4350282485875|11667.316384180791|\n",
      "| stddev|                   null|    null|1162.5106256246545|10648.284864561118|\n",
      "|    min|                 B02512|1/1/2015|               112|               629|\n",
      "|    max|                 B02765|2/9/2015|              4395|             45858|\n",
      "+-------+-----------------------+--------+------------------+------------------+\n",
      "\n"
     ]
    }
   ],
   "source": [
    "df.describe().show()"
   ]
  },
  {
   "cell_type": "code",
   "execution_count": 79,
   "metadata": {
    "scrolled": true
   },
   "outputs": [
    {
     "data": {
      "text/plain": [
       "[[112.0, 1072.0, 4395.0], [629.0, 9546.0, 45858.0]]"
      ]
     },
     "execution_count": 79,
     "metadata": {},
     "output_type": "execute_result"
    }
   ],
   "source": [
    "df.approxQuantile(['active_vehicles', 'trips'], [0.01, 0.5, 0.99], 0.05)"
   ]
  },
  {
   "cell_type": "code",
   "execution_count": 153,
   "metadata": {},
   "outputs": [
    {
     "name": "stdout",
     "output_type": "stream",
     "text": [
      "+-----------------------+--------------------+----------+\n",
      "|dispatching_base_number|max(active_vehicles)|max(trips)|\n",
      "+-----------------------+--------------------+----------+\n",
      "|                 B02512|                 281|      2408|\n",
      "|                 B02598|                1216|     13062|\n",
      "|                 B02682|                1523|     16448|\n",
      "|                 B02765|                 786|      7824|\n",
      "|                 B02617|                1590|     16999|\n",
      "|                 B02764|                4395|     45858|\n",
      "+-----------------------+--------------------+----------+\n",
      "\n"
     ]
    }
   ],
   "source": [
    "df.groupBy('dispatching_base_number').max('active_vehicles', 'trips').show()"
   ]
  },
  {
   "cell_type": "code",
   "execution_count": 74,
   "metadata": {},
   "outputs": [
    {
     "name": "stdout",
     "output_type": "stream",
     "text": [
      "+-----------------------+\n",
      "|dispatching_base_number|\n",
      "+-----------------------+\n",
      "|                 B02512|\n",
      "|                 B02598|\n",
      "|                 B02682|\n",
      "|                 B02765|\n",
      "|                 B02617|\n",
      "|                 B02764|\n",
      "+-----------------------+\n",
      "\n"
     ]
    }
   ],
   "source": [
    "df.select(\"dispatching_base_number\").distinct().show()"
   ]
  },
  {
   "cell_type": "markdown",
   "metadata": {},
   "source": [
    "## Aufgabe: Umstrukturieren nach Datum\n",
    "\n",
    "Fahrten sind bisher pro Basis pro Tag, wir wollen jetzt nur noch nach Tag haben. Zusätzlich Spalten wieder umbenennen mit `withColumnRenamed`"
   ]
  },
  {
   "cell_type": "code",
   "execution_count": 169,
   "metadata": {},
   "outputs": [],
   "source": [
    "# data_per_day = df.groupBy('date').sum('active_vehicles', 'trips') \\\n",
    "#    .withColumnRenamed('sum(active_vehicles)', 'active_vehicles').withColumnRenamed('sum(trips)', 'trips')"
   ]
  },
  {
   "cell_type": "code",
   "execution_count": 161,
   "metadata": {},
   "outputs": [
    {
     "data": {
      "text/plain": [
       "0.8496277378382892"
      ]
     },
     "execution_count": 161,
     "metadata": {},
     "output_type": "execute_result"
    }
   ],
   "source": [
    "data_per_day.corr('active_vehicles', 'trips')"
   ]
  },
  {
   "cell_type": "code",
   "execution_count": 162,
   "metadata": {},
   "outputs": [
    {
     "data": {
      "text/plain": [
       "[[3496.0, 7999.0, 9649.0], [25244.0, 70296.0, 100915.0]]"
      ]
     },
     "execution_count": 162,
     "metadata": {},
     "output_type": "execute_result"
    }
   ],
   "source": [
    "data_per_day.approxQuantile(['active_vehicles', 'trips'], [0.01, 0.5, 0.99], 0.05)"
   ]
  },
  {
   "cell_type": "code",
   "execution_count": 163,
   "metadata": {},
   "outputs": [
    {
     "name": "stdout",
     "output_type": "stream",
     "text": [
      "+------------------+\n",
      "|avg(trips_per_car)|\n",
      "+------------------+\n",
      "| 8.845142619763957|\n",
      "+------------------+\n",
      "\n"
     ]
    }
   ],
   "source": [
    "data_per_day.select((data_per_day.trips / data_per_day.active_vehicles).alias('trips_per_car')) \\\n",
    "        .agg({'trips_per_car' : 'mean'}).show()"
   ]
  },
  {
   "cell_type": "code",
   "execution_count": 151,
   "metadata": {},
   "outputs": [
    {
     "name": "stdout",
     "output_type": "stream",
     "text": [
      "+-----------------------+------------------+\n",
      "|dispatching_base_number|avg(trips_per_car)|\n",
      "+-----------------------+------------------+\n",
      "|                 B02512| 7.073430660588635|\n",
      "|                 B02598| 9.133921849595998|\n",
      "|                 B02682| 9.161441123761087|\n",
      "|                 B02765| 8.105403794986351|\n",
      "|                 B02617| 9.024466408204646|\n",
      "|                 B02764| 8.754156172824018|\n",
      "+-----------------------+------------------+\n",
      "\n"
     ]
    }
   ],
   "source": [
    "df.select('dispatching_base_number', (df.trips / df.active_vehicles).alias('trips_per_car')) \\\n",
    "        .groupBy('dispatching_base_number') \\\n",
    "        .mean('trips_per_car').show()"
   ]
  },
  {
   "cell_type": "markdown",
   "metadata": {},
   "source": [
    "## Mit SparkSQL arbeiten"
   ]
  },
  {
   "cell_type": "code",
   "execution_count": 7,
   "metadata": {},
   "outputs": [],
   "source": [
    "df.registerTempTable(\"uber\")"
   ]
  },
  {
   "cell_type": "code",
   "execution_count": 70,
   "metadata": {},
   "outputs": [
    {
     "name": "stdout",
     "output_type": "stream",
     "text": [
      "+-----------------------+\n",
      "|dispatching_base_number|\n",
      "+-----------------------+\n",
      "|                 B02512|\n",
      "|                 B02598|\n",
      "|                 B02682|\n",
      "|                 B02765|\n",
      "|                 B02617|\n",
      "|                 B02764|\n",
      "+-----------------------+\n",
      "\n"
     ]
    }
   ],
   "source": [
    "distinct_bases = sqlContext.sql(\"select distinct dispatching_base_number from uber\")\n",
    "distinct_bases.show()"
   ]
  },
  {
   "cell_type": "code",
   "execution_count": 168,
   "metadata": {},
   "outputs": [
    {
     "name": "stdout",
     "output_type": "stream",
     "text": [
      "+-----------------------+-------+\n",
      "|dispatching_base_number|    cnt|\n",
      "+-----------------------+-------+\n",
      "|                 B02764|1914449|\n",
      "|                 B02617| 725025|\n",
      "|                 B02682| 662509|\n",
      "|                 B02598| 540791|\n",
      "|                 B02765| 193670|\n",
      "|                 B02512|  93786|\n",
      "+-----------------------+-------+\n",
      "\n"
     ]
    }
   ],
   "source": [
    "sqlContext.sql(\"\"\"select dispatching_base_number, sum(trips) as cnt \n",
    "                                from uber\n",
    "                                group by dispatching_base_number \n",
    "                                order by cnt desc\"\"\").show()"
   ]
  },
  {
   "cell_type": "code",
   "execution_count": 167,
   "metadata": {},
   "outputs": [
    {
     "name": "stdout",
     "output_type": "stream",
     "text": [
      "+---------+------+\n",
      "|     date| trips|\n",
      "+---------+------+\n",
      "|2/20/2015|100915|\n",
      "|2/14/2015|100345|\n",
      "|2/21/2015| 98380|\n",
      "|2/13/2015| 98024|\n",
      "|1/31/2015| 92257|\n",
      "+---------+------+\n",
      "\n"
     ]
    }
   ],
   "source": [
    "sqlContext.sql(\"\"\"select date, sum(trips) as trips \n",
    "                    from uber \n",
    "                    group by date \n",
    "                    order by trips desc \n",
    "                    limit 5\"\"\").show()"
   ]
  },
  {
   "cell_type": "markdown",
   "metadata": {},
   "source": [
    "## Aufgabe: Informationen Sammeln mit SQL\n",
    "\n",
    "1. Erfolgreichster Tag\n",
    "2. Durchschnittliche Trips pro Basis\n",
    "3. Tag mit geringster Auslastung (`trips / active_vehicles`)\n",
    "\n"
   ]
  },
  {
   "cell_type": "code",
   "execution_count": null,
   "metadata": {},
   "outputs": [],
   "source": [
    "sc.stop()"
   ]
  }
 ],
 "metadata": {
  "kernelspec": {
   "display_name": "Python 3",
   "language": "python",
   "name": "python3"
  },
  "language_info": {
   "codemirror_mode": {
    "name": "ipython",
    "version": 3
   },
   "file_extension": ".py",
   "mimetype": "text/x-python",
   "name": "python",
   "nbconvert_exporter": "python",
   "pygments_lexer": "ipython3",
   "version": "3.5.2"
  }
 },
 "nbformat": 4,
 "nbformat_minor": 1
}
